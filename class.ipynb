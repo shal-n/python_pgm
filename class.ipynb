{
  "nbformat": 4,
  "nbformat_minor": 0,
  "metadata": {
    "colab": {
      "name": "class.ipynb",
      "provenance": [],
      "collapsed_sections": [],
      "authorship_tag": "ABX9TyM9Fbgb78vtx3tzsdeoAiVw"
    },
    "kernelspec": {
      "name": "python3",
      "display_name": "Python 3"
    },
    "language_info": {
      "name": "python"
    }
  },
  "cells": [
    {
      "cell_type": "markdown",
      "source": [
        "practice class,object,self and init"
      ],
      "metadata": {
        "id": "5tHs9r-A5aUE"
      }
    },
    {
      "cell_type": "code",
      "source": [
        "class Student:\n",
        "  def __init__(self):\n",
        "    self.name ='vishnu'\n",
        "    self.age=20\n",
        "    self.marks=900\n",
        "  def talk(self):\n",
        "    print('Hi, I am',self.name)\n",
        "    print('my age is',self.age)\n",
        "    print('my Marks are',self.marks)\n",
        "\n",
        "s1 =  Student()\n",
        "s1.talk()"
      ],
      "metadata": {
        "id": "_ijIaMw2KSYX",
        "colab": {
          "base_uri": "https://localhost:8080/"
        },
        "outputId": "69350d11-5a3e-496b-cb7e-728aa0c84300"
      },
      "execution_count": 5,
      "outputs": [
        {
          "output_type": "stream",
          "name": "stdout",
          "text": [
            "Hi, I am vishnu\n",
            "my age is 20\n",
            "my Marks are 900\n"
          ]
        }
      ]
    }
  ]
}