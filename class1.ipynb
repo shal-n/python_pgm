{
  "nbformat": 4,
  "nbformat_minor": 0,
  "metadata": {
    "colab": {
      "name": "class1.ipynb",
      "provenance": [],
      "collapsed_sections": [],
      "authorship_tag": "ABX9TyNU2JjtX5XfoN12F/tjD6GT"
    },
    "kernelspec": {
      "name": "python3",
      "display_name": "Python 3"
    },
    "language_info": {
      "name": "python"
    }
  },
  "cells": [
    {
      "cell_type": "markdown",
      "source": [
        "Write a program using init in class with real time scenarios"
      ],
      "metadata": {
        "id": "5tHs9r-A5aUE"
      }
    },
    {
      "cell_type": "code",
      "source": [
        "class Car():\n",
        "  def __init__(self,name,company,cc,mile,price):\n",
        "    self.a =name\n",
        "    self.c=company\n",
        "    self.d=cc\n",
        "    self.m=mile\n",
        "    self.p=price\n",
        "  def Car_info(self):\n",
        "    print('car name:',self.a)\n",
        "    print('car company;',self.c)\n",
        "    print('car cc:',self.d)\n",
        "    print('car mileage:',self.m)\n",
        "    print('car price:',self.p)\n",
        "cn=input('enter the car name:')\n",
        "cc=input('enter the car company:')\n",
        "ccc=input('enter the car cc:')\n",
        "cm=int(input('enter the car mileage:'))\n",
        "cp=float(input('enter the car price:'))\n",
        "\n",
        "carobj = Car(cn,cc,ccc,cm,cp)\n",
        "carobj.Car_info()"
      ],
      "metadata": {
        "id": "_ijIaMw2KSYX",
        "colab": {
          "base_uri": "https://localhost:8080/"
        },
        "outputId": "be0af3c0-6e7b-44a3-9a0d-ed6424f565d8"
      },
      "execution_count": 11,
      "outputs": [
        {
          "output_type": "stream",
          "name": "stdout",
          "text": [
            "enter the car name:i10\n",
            "enter the car company:Hyundai\n",
            "enter the car cc:1000\n",
            "enter the car mileage:16\n",
            "enter the car price:900000\n",
            "car name: i10\n",
            "car company; Hyundai\n",
            "car cc: 1000\n",
            "car mileage: 16\n",
            "car price: 900000.0\n"
          ]
        }
      ]
    }
  ]
}