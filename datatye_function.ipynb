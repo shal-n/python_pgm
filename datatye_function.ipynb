{
  "nbformat": 4,
  "nbformat_minor": 0,
  "metadata": {
    "colab": {
      "name": "datatye_function.ipynb",
      "provenance": [],
      "collapsed_sections": [],
      "authorship_tag": "ABX9TyOBiipG0uVej6xSxCX8RL9T"
    },
    "kernelspec": {
      "name": "python3",
      "display_name": "Python 3"
    },
    "language_info": {
      "name": "python"
    }
  },
  "cells": [
    {
      "cell_type": "markdown",
      "source": [
        "Using comments in python program"
      ],
      "metadata": {
        "id": "yTaSK1KoFNnE"
      }
    },
    {
      "cell_type": "code",
      "execution_count": null,
      "metadata": {
        "id": "vSV6jRzS_Kig",
        "colab": {
          "base_uri": "https://localhost:8080/"
        },
        "outputId": "f0840ff1-ef95-4dfa-de66-a66069686302"
      },
      "outputs": [
        {
          "output_type": "stream",
          "name": "stdout",
          "text": [
            "sum of a and b is:  25\n"
          ]
        }
      ],
      "source": [
        "# below comment is multi line comment\n",
        "\n",
        "\"\"\" sum of two number\n",
        "by using two variables \n",
        "entering values statically \"\"\"\n",
        "\n",
        "a = 10\n",
        "b = 15\n",
        "sum = (a+b) # sum formula # single comment \n",
        "print('sum of a and b is: ', sum)"
      ]
    },
    {
      "cell_type": "markdown",
      "source": [
        "Using variables and datatypes in python program"
      ],
      "metadata": {
        "id": "u6TjvzFwFYFI"
      }
    },
    {
      "cell_type": "code",
      "source": [
        " a = int(10) # int datatype\n",
        " b = float(20) # float datatype\n",
        " c = float(50.6)\n",
        " d = 25 # here d is variable name and 25 is value of variable \n",
        " sum = float(a+b+c+d)\n",
        " print(sum)\n",
        "e = 15>5 # here 'he's is treated as book type\n",
        "print(e) \n",
        "type(e) # type function it display which datatype"
      ],
      "metadata": {
        "colab": {
          "base_uri": "https://localhost:8080/"
        },
        "id": "RKw24U9aFmJv",
        "outputId": "79ffd1ac-edcb-41f9-839d-5107b0a8b7d6"
      },
      "execution_count": 4,
      "outputs": [
        {
          "output_type": "stream",
          "name": "stdout",
          "text": [
            "105.6\n",
            "True\n"
          ]
        },
        {
          "output_type": "execute_result",
          "data": {
            "text/plain": [
              "bool"
            ]
          },
          "metadata": {},
          "execution_count": 4
        }
      ]
    }
  ]
}