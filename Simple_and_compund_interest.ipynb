{
  "nbformat": 4,
  "nbformat_minor": 0,
  "metadata": {
    "colab": {
      "name": "Simple_and_compund_interest.ipynb",
      "provenance": [],
      "collapsed_sections": [],
      "authorship_tag": "ABX9TyNp+SQpSjWLBMGKLbir7//V"
    },
    "kernelspec": {
      "name": "python3",
      "display_name": "Python 3"
    },
    "language_info": {
      "name": "python"
    }
  },
  "cells": [
    {
      "cell_type": "code",
      "execution_count": 1,
      "metadata": {
        "id": "Hy_R8Jcp4F3d"
      },
      "outputs": [],
      "source": [
        "# program to calculate simple and compound interest"
      ]
    },
    {
      "cell_type": "code",
      "source": [
        "# p is principal amount\n",
        "p = int(input('enter principal amount'))\n",
        "# r is rate of interest \n",
        "r = int(input('enter rate of interest'))\n",
        "# t is time \n",
        "t = int(input('enter time of interest'))"
      ],
      "metadata": {
        "colab": {
          "base_uri": "https://localhost:8080/"
        },
        "id": "dCJpi6zX4nVn",
        "outputId": "8f5669fe-3c06-451c-cedd-ec856fd179c6"
      },
      "execution_count": 4,
      "outputs": [
        {
          "name": "stdout",
          "output_type": "stream",
          "text": [
            "enter principal amount1000\n",
            "enter rate of interest5\n",
            "enter time of interest5\n"
          ]
        }
      ]
    },
    {
      "cell_type": "code",
      "source": [
        "si = (p*t*r)/100 # simple interest formula \n",
        "print(si)"
      ],
      "metadata": {
        "colab": {
          "base_uri": "https://localhost:8080/"
        },
        "id": "m0Fwzb1D6O0N",
        "outputId": "0c24f67a-4eef-47fc-db12-ff7172a0aafe"
      },
      "execution_count": 5,
      "outputs": [
        {
          "output_type": "stream",
          "name": "stdout",
          "text": [
            "250.0\n"
          ]
        }
      ]
    },
    {
      "cell_type": "code",
      "source": [
        "ci = p*(1+r/100)**t # compound interest  formula \n",
        "print(ci)"
      ],
      "metadata": {
        "colab": {
          "base_uri": "https://localhost:8080/"
        },
        "id": "0euU7sox6n0u",
        "outputId": "0dd2e1bc-dd7f-44b1-dbd7-c75711d14106"
      },
      "execution_count": 6,
      "outputs": [
        {
          "output_type": "stream",
          "name": "stdout",
          "text": [
            "1276.2815625000003\n"
          ]
        }
      ]
    }
  ]
}