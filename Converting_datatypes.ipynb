{
  "nbformat": 4,
  "nbformat_minor": 0,
  "metadata": {
    "colab": {
      "name": "Converting_datatypes.ipynb",
      "provenance": [],
      "collapsed_sections": [],
      "authorship_tag": "ABX9TyNuWn82KQ04qlqshXuU+C21"
    },
    "kernelspec": {
      "name": "python3",
      "display_name": "Python 3"
    },
    "language_info": {
      "name": "python"
    }
  },
  "cells": [
    {
      "cell_type": "markdown",
      "source": [
        "convert int into float data type"
      ],
      "metadata": {
        "id": "QnxUUowuQCMZ"
      }
    },
    {
      "cell_type": "code",
      "source": [
        "a = 10\n",
        "float(a)"
      ],
      "metadata": {
        "colab": {
          "base_uri": "https://localhost:8080/"
        },
        "id": "1solP58AO5Pl",
        "outputId": "c58e29ad-340a-443e-cab1-81398b9c28f9"
      },
      "execution_count": 18,
      "outputs": [
        {
          "output_type": "execute_result",
          "data": {
            "text/plain": [
              "10.0"
            ]
          },
          "metadata": {},
          "execution_count": 18
        }
      ]
    },
    {
      "cell_type": "markdown",
      "source": [
        "convert float into int data type"
      ],
      "metadata": {
        "id": "69xkDS3aSjJ0"
      }
    },
    {
      "cell_type": "code",
      "source": [
        "a = 10.20\n",
        "int(a)"
      ],
      "metadata": {
        "colab": {
          "base_uri": "https://localhost:8080/"
        },
        "id": "D-nHy3JMSd81",
        "outputId": "dcab39ab-2130-4003-c526-c5643f374ddd"
      },
      "execution_count": 2,
      "outputs": [
        {
          "output_type": "execute_result",
          "data": {
            "text/plain": [
              "10"
            ]
          },
          "metadata": {},
          "execution_count": 2
        }
      ]
    },
    {
      "cell_type": "markdown",
      "source": [
        "converting float into string"
      ],
      "metadata": {
        "id": "oJMTIgAhThV2"
      }
    },
    {
      "cell_type": "code",
      "source": [
        "a =10.20\n",
        "str(a)"
      ],
      "metadata": {
        "colab": {
          "base_uri": "https://localhost:8080/",
          "height": 35
        },
        "id": "4yfZP5maWEYI",
        "outputId": "a7121dcb-b900-40c5-b703-3bc395c097c7"
      },
      "execution_count": 19,
      "outputs": [
        {
          "output_type": "execute_result",
          "data": {
            "text/plain": [
              "'10.2'"
            ],
            "application/vnd.google.colaboratory.intrinsic+json": {
              "type": "string"
            }
          },
          "metadata": {},
          "execution_count": 19
        }
      ]
    }
  ]
}