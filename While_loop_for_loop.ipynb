{
  "nbformat": 4,
  "nbformat_minor": 0,
  "metadata": {
    "colab": {
      "name": "While_loop_for_loop.ipynb",
      "provenance": [],
      "authorship_tag": "ABX9TyM4NO3Oa5k222S/ejvirj0/"
    },
    "kernelspec": {
      "name": "python3",
      "display_name": "Python 3"
    },
    "language_info": {
      "name": "python"
    }
  },
  "cells": [
    {
      "cell_type": "markdown",
      "source": [
        "Write a python program to display even number between 100 and 200 using while loop"
      ],
      "metadata": {
        "id": "Bhh6ZkHS2kWi"
      }
    },
    {
      "cell_type": "code",
      "execution_count": null,
      "metadata": {
        "colab": {
          "base_uri": "https://localhost:8080/"
        },
        "id": "NKT-QNfYKYLh",
        "outputId": "10394c2c-fffa-4840-cb50-e910395d059b"
      },
      "outputs": [
        {
          "output_type": "stream",
          "name": "stdout",
          "text": [
            "100\n",
            "102\n",
            "104\n",
            "106\n",
            "108\n",
            "110\n",
            "112\n",
            "114\n",
            "116\n",
            "118\n",
            "120\n",
            "122\n",
            "124\n",
            "126\n",
            "128\n",
            "130\n",
            "132\n",
            "134\n",
            "136\n",
            "138\n",
            "140\n",
            "142\n",
            "144\n",
            "146\n",
            "148\n",
            "150\n",
            "152\n",
            "154\n",
            "156\n",
            "158\n",
            "160\n",
            "162\n",
            "164\n",
            "166\n",
            "168\n",
            "170\n",
            "172\n",
            "174\n",
            "176\n",
            "178\n",
            "180\n",
            "182\n",
            "184\n",
            "186\n",
            "188\n",
            "190\n",
            "192\n",
            "194\n",
            "196\n",
            "198\n",
            "200\n"
          ]
        }
      ],
      "source": [
        "x =100 #assign value to variable \n",
        "while x<=200: # condition below or equal to 200 number \n",
        "  print(x)\n",
        "  x+=2  # increment by 2 value"
      ]
    },
    {
      "cell_type": "markdown",
      "source": [
        "Write a pattern python program  using for loop"
      ],
      "metadata": {
        "id": "UJMdYtic3fpx"
      }
    },
    {
      "cell_type": "code",
      "source": [
        "for i in range(1,5): # loop for 1 to 5\n",
        "  for j in range(1,i+1):# increment one by one  in loop\n",
        "    print('*',end='') # loop take value * to prit\n",
        "  print()"
      ],
      "metadata": {
        "colab": {
          "base_uri": "https://localhost:8080/"
        },
        "id": "YlJTd3ViY9Az",
        "outputId": "b6c584ca-91db-4cb1-af4f-86c526c969b7"
      },
      "execution_count": null,
      "outputs": [
        {
          "output_type": "stream",
          "name": "stdout",
          "text": [
            "*\n",
            "**\n",
            "***\n",
            "****\n"
          ]
        }
      ]
    }
  ]
}